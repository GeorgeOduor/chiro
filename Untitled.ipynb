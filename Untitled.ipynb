{
 "cells": [
  {
   "cell_type": "markdown",
   "id": "01833e0b",
   "metadata": {
    "toc": true
   },
   "source": [
    "<h1>Table of Contents<span class=\"tocSkip\"></span></h1>\n",
    "<div class=\"toc\"><ul class=\"toc-item\"></ul></div>"
   ]
  },
  {
   "cell_type": "code",
   "execution_count": 1,
   "id": "1650f791",
   "metadata": {
    "ExecuteTime": {
     "end_time": "2022-01-03T18:00:13.218015Z",
     "start_time": "2022-01-03T18:00:13.208331Z"
    }
   },
   "outputs": [],
   "source": [
    "import os\n",
    "import django\n",
    "os.environ.setdefault('DJANGO_SETTINGS_MODULE', 'rest.settings')\n",
    "os.environ[\"DJANGO_ALLOW_ASYNC_UNSAFE\"] = \"true\"\n",
    "django.setup()\n",
    "django.setup()\n",
    "from django.contrib.auth import login, authenticate"
   ]
  },
  {
   "cell_type": "code",
   "execution_count": 2,
   "id": "242c82ac",
   "metadata": {
    "ExecuteTime": {
     "end_time": "2022-01-03T18:00:14.715405Z",
     "start_time": "2022-01-03T18:00:14.705391Z"
    }
   },
   "outputs": [],
   "source": [
    "from core.models import *\n",
    "from clients.models import *\n",
    "from django.db.models import Sum"
   ]
  },
  {
   "cell_type": "code",
   "execution_count": 3,
   "id": "45bab6a6",
   "metadata": {
    "ExecuteTime": {
     "end_time": "2022-01-03T18:00:16.795120Z",
     "start_time": "2022-01-03T18:00:16.753563Z"
    },
    "code_folding": [
     0,
     5,
     25,
     48,
     53,
     57,
     64,
     67,
     88,
     102
    ]
   },
   "outputs": [],
   "source": [
    "class LoanManager:\n",
    "    lender_account = \"001\"\n",
    "\n",
    "    def __init__(self):\n",
    "        pass\n",
    "    def createAccountNo(self, client_type=\"C\"):\n",
    "        client = tbl_Clients.objects.filter(ClientType = client_type)\n",
    "        if client_type == 'C':\n",
    "            if client.exists():\n",
    "                last_account_created = client.values_list(\n",
    "                    'AccountNumber').latest('CreatedOn')\n",
    "                new_account = \"00\"+str(int(last_account_created[0])+1)\n",
    "            else:\n",
    "                new_account = \"0018010000001\"\n",
    "        elif client_type == \"S\":\n",
    "            if client.exists():\n",
    "                last_account_created = client.values_list(\n",
    "                    'AccountNumber').latest('CreatedOn')\n",
    "                new_account = \"00\"+str(int(last_account_created[0])+1)\n",
    "            else:\n",
    "                new_account = \"0017010000001\"\n",
    "        else:\n",
    "            new_account = None\n",
    "        return new_account\n",
    "\n",
    "    def createProfile(self,client_id, client_type, **kwargs):\n",
    "        client = tbl_Clients(\n",
    "            user_id = client_id,\n",
    "            mobile_no=kwargs['mobile_no'],\n",
    "            ClientType = client_type,\n",
    "            AccountNumber=self.createAccountNo(client_type=client_type)\n",
    "        ).save()\n",
    "        \n",
    "    def updateProfile(self,client_type,**kwargs):\n",
    "        client = tbl_Clients.objects.filter(user_id = client_id)\n",
    "        client.update(\n",
    "            user_id = client_id,\n",
    "            first_name=kwargs['first_name'],\n",
    "            last_name=kwargs['last_name'],\n",
    "            mobile_no=kwargs['mobile_no'],\n",
    "            national_id=kwargs['national_id'],\n",
    "            gender=kwargs['gender'],\n",
    "            date_of_birth=kwargs['date_of_birth'],\n",
    "            AmountEligible=kwargs['AmountEligible'],\n",
    "            BusinessName=kwargs['businessname'],\n",
    "            ClientType = client_type,\n",
    "            AccountNumber=self.createAccountNo(client_type=client_type))  \n",
    "\n",
    "    def get_limit(self):\n",
    "        client = tbl_Clients.objects.filter(id=self.cleintid).values(\n",
    "            'AmountEligible')[0]['AmountEligible']\n",
    "        return float(client)\n",
    "\n",
    "    def loan_request(self,sp_id,**kwargs):\n",
    "        interest = kwargs['amount'] * kwargs['interest_rate']\n",
    "        charges = interest * kwargs['charge_rate']\n",
    "        client = tbl_Clients.objects.all()\n",
    "        transaction_account = tbl_Clients.objects.filter(\n",
    "            id=self.cleintid).values_list('AccountNumber')[0][0]\n",
    "#         service providers account_no\n",
    "        service_provider_ac = client.filter(id=int(sp_id.lstrip(\"0\"))).values('AccountNumber')[0]['AccountNumber']\n",
    "#         return service_provider_ac\n",
    "        #         save trx to transaction account\n",
    "        amount_eligible = self.get_limit() - self.loan_balance()\n",
    "        if kwargs['amount'] > amount_eligible:\n",
    "            raise Exception(\n",
    "                \"Sorry amount you've requested is above your loan limit at the moment!\")\n",
    "        else:\n",
    "            tbl_Transactions.objects.bulk_create([\n",
    "                #                 debit the borowers loan account\n",
    "                tbl_Transactions(AccountID=transaction_account, TransactionType='Debit',\n",
    "                                 TrxNarration=kwargs['naration'], Amount=kwargs['amount'], TrxTypeID='TD',\n",
    "                                 ClientType='C', ClientID=client.get(id=self.cleintid)),\n",
    "                tbl_Transactions(AccountID=transaction_account, TransactionType='Debit', TrxNarration=\"Loan Interest charges\",\n",
    "                                 Amount=interest, TrxTypeID='TD', ClientType='C', ClientID=client.get(id=self.cleintid)),\n",
    "                tbl_Transactions(AccountID=transaction_account, TransactionType='Debit', TrxNarration=\"Excise Duty\",\n",
    "                                 Amount=charges, TrxTypeID='TD', ClientType='C', ClientID=client.get(id=self.cleintid)),\n",
    "                #                 credit supliers account\n",
    "                tbl_Transactions(AccountID=service_provider_ac, TransactionType='Credit', TrxNarration=\"Item Purchase\",\n",
    "                                 Amount=kwargs['amount'], TrxTypeID='TC', ClientType='S', ClientID=client.get(id=self.cleintid)),\n",
    "                #                 debit lenders account\n",
    "                tbl_Transactions(AccountID=self.lender_account, TransactionType='Debit',\n",
    "                                 TrxNarration=f\"Loan Disbursed to {transaction_account}\",\n",
    "                                 Amount=charges, TrxTypeID='TD', ClientType='L',\n",
    "                                 ClientID=client.get(id=self.cleintid)\n",
    "                                 )\n",
    "            ])\n",
    "\n",
    "    def pay_loan(self, **kwargs):\n",
    "        client = tbl_Clients.objects.all()\n",
    "        transaction_account = tbl_Clients.objects.filter(\n",
    "            id=kwargs['clientid']).values_list('AccountNumber')[0][0]\n",
    "        loanbalance = self.loan_balance()\n",
    "        if kwargs['amount'] > loanbalance:\n",
    "            excess = kwargs['amount'] - loanbalance\n",
    "            amount = loanbalance\n",
    "        else:\n",
    "            amount = kwargs['amount']\n",
    "        tbl_Transactions(AccountID=transaction_account, TransactionType='Credit',\n",
    "                         TrxNarration=kwargs['naration'], Amount=amount, TrxTypeID='TC',\n",
    "                         ClientType='Client', ClientID=client.get(id=kwargs['clientid'])).save()\n",
    "\n",
    "    def loan_balance(self):\n",
    "        client = tbl_Clients.objects.all()\n",
    "        transaction_account = tbl_Clients.objects.filter(\n",
    "            id=self.cleintid).values_list('AccountNumber')[0][0]\n",
    "        total_debit = tbl_Transactions.objects.filter(\n",
    "            AccountID=transaction_account,\n",
    "            TransactionType='Debit').aggregate(Sum('Amount'))['Amount__sum']\n",
    "        total_credit = tbl_Transactions.objects.filter(\n",
    "            AccountID=transaction_account,\n",
    "            TransactionType='Credit').aggregate(Sum('Amount'))['Amount__sum']\n",
    "        if total_credit is None:\n",
    "            total_credit = 0\n",
    "        if total_debit is None:\n",
    "            total_debit = 0\n",
    "        balance = float(total_debit - total_credit)\n",
    "        return balance"
   ]
  },
  {
   "cell_type": "code",
   "execution_count": 4,
   "id": "4351868e",
   "metadata": {
    "ExecuteTime": {
     "end_time": "2022-01-03T18:00:19.929141Z",
     "start_time": "2022-01-03T18:00:19.351507Z"
    },
    "code_folding": [
     0
    ]
   },
   "outputs": [
    {
     "data": {
      "text/plain": [
       "'0018010000005'"
      ]
     },
     "execution_count": 4,
     "metadata": {},
     "output_type": "execute_result"
    }
   ],
   "source": [
    "user = authenticate(phone_no=254711894704, password=1)\n",
    "manager = LoanManager()\n",
    "manager.createAccountNo(client_type='C')\n",
    "# if user:\n",
    "#     client_id = user.id\n",
    "# #     manager.createAccountNo(client_type='C')\n",
    "# #     manager.createProfile(client_type='C',mobile_no = 254711894704,client_id=client_id)\n",
    "# else:\n",
    "#     print(\"No\")"
   ]
  },
  {
   "cell_type": "code",
   "execution_count": 121,
   "id": "324dc7a7",
   "metadata": {
    "ExecuteTime": {
     "end_time": "2022-01-02T16:56:00.532295Z",
     "start_time": "2022-01-02T16:56:00.509792Z"
    },
    "code_folding": [
     1
    ]
   },
   "outputs": [],
   "source": [
    "manager = LoanManager()\n",
    "manager.updateProfile(\n",
    "    user_id=client_id,\n",
    "    first_name = \"George\",\n",
    "    last_name = \"Oduor\",\n",
    "    mobile_no = \"254711894704\",\n",
    "    national_id = \"29813942\",\n",
    "    gender = \"M\",\n",
    "    date_of_birth = \"1991-01-01\",\n",
    "    AmountEligible = \"2000\",\n",
    "    businessname = None,\n",
    "    client_type = \"C\",\n",
    "    Address = None,\n",
    "    AccountNumber = \"0018010000001\")\n",
    "# tbl_Clients.objects.all().values()"
   ]
  },
  {
   "cell_type": "code",
   "execution_count": 18,
   "id": "54e7e65f",
   "metadata": {
    "ExecuteTime": {
     "end_time": "2022-01-03T18:05:46.097210Z",
     "start_time": "2022-01-03T18:05:46.079942Z"
    }
   },
   "outputs": [
    {
     "name": "stdout",
     "output_type": "stream",
     "text": [
      "None\n"
     ]
    }
   ],
   "source": [
    "password = 11\n",
    "phone_no = 89\n",
    "user = authenticate(user=phone_no, password=password)\n",
    "print(user)"
   ]
  },
  {
   "cell_type": "code",
   "execution_count": 17,
   "id": "b8d4c3fa",
   "metadata": {
    "ExecuteTime": {
     "end_time": "2022-01-03T18:05:37.594085Z",
     "start_time": "2022-01-03T18:05:37.586965Z"
    }
   },
   "outputs": [
    {
     "name": "stdout",
     "output_type": "stream",
     "text": [
      "None\n"
     ]
    }
   ],
   "source": []
  },
  {
   "cell_type": "code",
   "execution_count": 157,
   "id": "13731e70",
   "metadata": {
    "ExecuteTime": {
     "end_time": "2022-01-02T17:45:00.016819Z",
     "start_time": "2022-01-02T17:45:00.005185Z"
    }
   },
   "outputs": [
    {
     "data": {
      "text/plain": [
       "True"
      ]
     },
     "execution_count": 157,
     "metadata": {},
     "output_type": "execute_result"
    }
   ],
   "source": [
    "clientinfo = tbl_Clients.objects.filter(user_id = 20)\n",
    "clientinfo.values_list('ClientType')[0][0] == 'C'"
   ]
  },
  {
   "cell_type": "code",
   "execution_count": 181,
   "id": "295933a6",
   "metadata": {
    "ExecuteTime": {
     "end_time": "2022-01-02T17:52:18.406208Z",
     "start_time": "2022-01-02T17:52:18.394780Z"
    }
   },
   "outputs": [
    {
     "data": {
      "text/plain": [
       "47"
      ]
     },
     "execution_count": 181,
     "metadata": {},
     "output_type": "execute_result"
    }
   ],
   "source": [
    "def chekcProfile(client_type,client_id):\n",
    "    available = sum([i is not None for i in clientinfo.values()[0].values()])\n",
    "    completenes = round(available/15 * 100)\n",
    "    if completenes < 85:\n",
    "#         notify\n",
    "    else:\n",
    "        if client_type == 'C':\n",
    "#             allow to make loans\n",
    "        elif client_type == 'S':\n",
    "#         allow to confirm payments\n",
    "        else:\n",
    "#         allow to view dashboards\n",
    "\n"
   ]
  },
  {
   "cell_type": "code",
   "execution_count": null,
   "id": "1fcc9387",
   "metadata": {
    "ExecuteTime": {
     "end_time": "2022-01-02T17:48:56.388116Z",
     "start_time": "2022-01-02T17:48:56.377605Z"
    }
   },
   "outputs": [],
   "source": []
  }
 ],
 "metadata": {
  "kernelspec": {
   "display_name": "Django Shell-Plus",
   "language": "python",
   "name": "django_extensions"
  },
  "language_info": {
   "codemirror_mode": {
    "name": "ipython",
    "version": 3
   },
   "file_extension": ".py",
   "mimetype": "text/x-python",
   "name": "python",
   "nbconvert_exporter": "python",
   "pygments_lexer": "ipython3",
   "version": "3.8.3"
  },
  "toc": {
   "base_numbering": 1,
   "nav_menu": {},
   "number_sections": true,
   "sideBar": true,
   "skip_h1_title": false,
   "title_cell": "Table of Contents",
   "title_sidebar": "Contents",
   "toc_cell": true,
   "toc_position": {},
   "toc_section_display": true,
   "toc_window_display": false
  },
  "varInspector": {
   "cols": {
    "lenName": 16,
    "lenType": 16,
    "lenVar": 40
   },
   "kernels_config": {
    "python": {
     "delete_cmd_postfix": "",
     "delete_cmd_prefix": "del ",
     "library": "var_list.py",
     "varRefreshCmd": "print(var_dic_list())"
    },
    "r": {
     "delete_cmd_postfix": ") ",
     "delete_cmd_prefix": "rm(",
     "library": "var_list.r",
     "varRefreshCmd": "cat(var_dic_list()) "
    }
   },
   "types_to_exclude": [
    "module",
    "function",
    "builtin_function_or_method",
    "instance",
    "_Feature"
   ],
   "window_display": false
  }
 },
 "nbformat": 4,
 "nbformat_minor": 5
}
