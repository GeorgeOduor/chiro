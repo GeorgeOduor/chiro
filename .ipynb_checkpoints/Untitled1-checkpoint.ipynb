{
 "cells": [
  {
   "cell_type": "markdown",
   "id": "af044106",
   "metadata": {
    "toc": true
   },
   "source": [
    "<h1>Table of Contents<span class=\"tocSkip\"></span></h1>\n",
    "<div class=\"toc\"><ul class=\"toc-item\"></ul></div>"
   ]
  },
  {
   "cell_type": "code",
   "execution_count": 1,
   "id": "6ba4f810",
   "metadata": {
    "ExecuteTime": {
     "end_time": "2021-09-28T08:34:07.882589Z",
     "start_time": "2021-09-28T08:34:07.631060Z"
    }
   },
   "outputs": [],
   "source": [
    "import os\n",
    "import django\n",
    "os.environ.setdefault('DJANGO_SETTINGS_MODULE', 'rest.settings')\n",
    "os.environ[\"DJANGO_ALLOW_ASYNC_UNSAFE\"] = \"true\"\n",
    "django.setup()\n",
    "from internal.models import MonitoringFile\n",
    "import pandas as pd\n",
    "import calendar\n",
    "from ipywidgets import interact,widgets\n",
    "import numpy as np"
   ]
  },
  {
   "cell_type": "code",
   "execution_count": 2,
   "id": "6d6e395e",
   "metadata": {
    "ExecuteTime": {
     "end_time": "2021-09-28T08:34:09.090595Z",
     "start_time": "2021-09-28T08:34:08.996946Z"
    }
   },
   "outputs": [],
   "source": [
    "monfile = MonitoringFile.objects.all()\n",
    "data = pd.DataFrame.from_records(monfile.values()).sort_values('id')\n",
    "data['Year'] = pd.to_datetime(data.Day).dt.year\n",
    "data['Week'] = data.Week.str.title()\n",
    "data['Month_Week'] = np.where((pd.to_datetime(data.Day).dt.day - 1) // 7 +1 == 5,4,(pd.to_datetime(data.Day).dt.day - 1) // 7 +1)\n",
    "data['Month_Week'] = data.Month.str[:3] +\"_Week_\"+ data.Month_Week.apply(lambda x : str(x))"
   ]
  },
  {
   "cell_type": "code",
   "execution_count": 3,
   "id": "fbc84b97",
   "metadata": {
    "ExecuteTime": {
     "end_time": "2021-09-28T08:34:10.744598Z",
     "start_time": "2021-09-28T08:34:10.733364Z"
    }
   },
   "outputs": [],
   "source": [
    "# social_media_highlights==>reach,engagements,clicks\n",
    "highlights = data[['Reach','Engagements','Clicks','Day','Month','Week','Year','Month_Week']]"
   ]
  },
  {
   "cell_type": "code",
   "execution_count": 4,
   "id": "530b3fc6",
   "metadata": {
    "ExecuteTime": {
     "end_time": "2021-09-28T08:34:11.567802Z",
     "start_time": "2021-09-28T08:34:11.434710Z"
    },
    "code_folding": [
     5
    ]
   },
   "outputs": [
    {
     "data": {
      "application/vnd.jupyter.widget-view+json": {
       "model_id": "2608dfdd0f7c44fdb6694b9b3584866d",
       "version_major": 2,
       "version_minor": 0
      },
      "text/plain": [
       "interactive(children=(SelectionRangeSlider(description='Dates', index=(0, 261), layout=Layout(width='500px'), …"
      ]
     },
     "metadata": {},
     "output_type": "display_data"
    }
   ],
   "source": [
    "options = pd.date_range('2021-01-01','2021-09-19')\n",
    "selection_range_slider = widgets.SelectionRangeSlider(options= options, layout={'width': '500px'},\n",
    "                             index = (0, len(options)-1),\n",
    "                             description='Dates',orientation='horizontal')\n",
    "@interact(v = selection_range_slider)\n",
    "def test(v):\n",
    "    months = len(set([i.month for i in pd.date_range(v[0],v[1])])) \n",
    "#     highlights = data[['Reach','Engagements','Clicks','Day','Month','Week','Year']]\n",
    "    if months > 4:\n",
    "        print(months)\n",
    "        data = highlights.groupby('Month').sum().reindex(calendar.month_name).reset_index().dropna(axis=0,how='any')\n",
    "        return data\n",
    "    else:\n",
    "        print(type(v[1]))\n",
    "        data  = highlights[(pd.to_datetime(highlights.Day) >= v[0]) & (pd.to_datetime(highlights.Day) <= v[1]) ]\n",
    "        data = data.groupby(['Year','Month_Week']).sum().reset_index()\n",
    "        return data"
   ]
  },
  {
   "cell_type": "code",
   "execution_count": 5,
   "id": "d1ceea8e",
   "metadata": {
    "ExecuteTime": {
     "end_time": "2021-09-28T08:34:33.216388Z",
     "start_time": "2021-09-28T08:34:33.078264Z"
    },
    "code_folding": [
     2,
     5,
     14,
     43,
     46
    ]
   },
   "outputs": [],
   "source": [
    "class ConversionsReports:\n",
    "\n",
    "    def __init__(self, report):\n",
    "        self.report = report\n",
    "\n",
    "    def clean_file(self):\n",
    "        data = pd.DataFrame.from_records(self.report.values()).sort_values('id')\n",
    "        data['Year'] = pd.to_datetime(data.Day).dt.year\n",
    "        data['Week'] = data.Week.str.title()\n",
    "        data['Month_Week'] = np.where((pd.to_datetime(\n",
    "            data.Day).dt.day - 1) // 7 + 1 == 5, 4, (pd.to_datetime(data.Day).dt.day - 1) // 7 + 1)\n",
    "        data['Month_Week'] = data.Month.str[:3] + \"_Week_\" + data.Month_Week.apply(lambda x: str(x))\n",
    "        return data\n",
    "\n",
    "    def socilamediahighlights(self, period=None):\n",
    "        highlights = self.clean_file()\n",
    "        if period is not None or period != \"\":\n",
    "            months = len(set([i.month for i in pd.date_range(period[0], period[1])]))\n",
    "            if months > 4:\n",
    "                data = highlights.groupby('Month').sum().reindex(\n",
    "                    calendar.month_name).reset_index().dropna(axis=0, how='any')\n",
    "                return data\n",
    "            else:\n",
    "                data = highlights[\n",
    "                    (pd.to_datetime(highlights.Day) >= period[0]) & (pd.to_datetime(highlights.Day) <= period[1])]\n",
    "                data = data.groupby(['Year', 'Month_Week']).sum().reset_index()\n",
    "                data = data.rename(columns={'Month_Week': 'Month'})\n",
    "                return data\n",
    "        else:\n",
    "            period = (pd.to_datetime(f\"{pd.to_datetime('now').year}-09-01\"), pd.to_datetime('now'))\n",
    "            months = len(set([i.month for i in pd.date_range(np.min(pd.to_datetime(highlights.Day)),\n",
    "                                                             np.max(pd.to_datetime(highlights.Day)))]))\n",
    "            if months > 4:\n",
    "                data = highlights.groupby('Month').sum().reindex(\n",
    "                    calendar.month_name).reset_index().dropna(axis=0, how='any')\n",
    "                return data\n",
    "            else:\n",
    "                data = highlights[\n",
    "                    (pd.to_datetime(highlights.Day) >= period[0]) & (pd.to_datetime(highlights.Day) <= period[1])]\n",
    "                data = data.groupby(['Year', 'Month_Week']).sum().reset_index()\n",
    "                data = data.rename(columns={'Month_Week': 'Month'})\n",
    "                return data\n",
    "\n",
    "    def engagement_rates(self,period):\n",
    "        highlights = self.clean_file()\n",
    "\n",
    "        if period is not None or period != \"\":\n",
    "            months = len(set([i.month for i in pd.date_range(period[0], period[1])]))\n",
    "            if months > 4:\n",
    "                data = highlights.groupby('Month').mean().reindex(\n",
    "                    calendar.month_name).reset_index().dropna(axis=0, how='any')\n",
    "                return data\n",
    "            else:\n",
    "                data = highlights[\n",
    "                    (pd.to_datetime(highlights.Day) >= period[0]) & (pd.to_datetime(highlights.Day) <= period[1])]\n",
    "                data = data.groupby(['Year', 'Month_Week']).mean().reset_index()\n",
    "                data = data.rename(columns={'Month_Week': 'Month'})\n",
    "                return data\n",
    "        else:\n",
    "            period = (pd.to_datetime(f\"{pd.to_datetime('now').year}-09-01\"), pd.to_datetime('now'))\n",
    "            months = len(set([i.month for i in pd.date_range(np.min(pd.to_datetime(highlights.Day)),\n",
    "                                                             np.max(pd.to_datetime(highlights.Day)))]))\n",
    "            if months > 4:\n",
    "                data = highlights.groupby('Month').mean().reindex(\n",
    "                    calendar.month_name).reset_index().dropna(axis=0, how='any')\n",
    "                return data\n",
    "            else:\n",
    "                data = highlights[\n",
    "                    (pd.to_datetime(highlights.Day) >= period[0]) & (pd.to_datetime(highlights.Day) <= period[1])]\n",
    "                data = data.groupby(['Year', 'Month_Week']).mean().reset_index()\n",
    "                data = data.rename(columns={'Month_Week': 'Month'})\n",
    "                return data\n",
    "        \n",
    "        return highlights\n",
    "report = ConversionsReports(MonitoringFile.objects.all())\n",
    "# report.clean_file()\n",
    "rep = report.socilamediahighlights(period = (pd.to_datetime(f\"{pd.to_datetime('now').year}-01-01\"),pd.to_datetime('now')))\n",
    "# [i for i in rep.Instagramreactionpower][-1]\n",
    "rep2 = report.engagement_rates(period = (pd.to_datetime(f\"{pd.to_datetime('now').year}-01-01\"),pd.to_datetime('now')))\n",
    "\n",
    "highlights =  report.clean_file()"
   ]
  },
  {
   "cell_type": "code",
   "execution_count": 6,
   "id": "5f72e567",
   "metadata": {
    "ExecuteTime": {
     "end_time": "2021-09-28T08:34:35.590152Z",
     "start_time": "2021-09-28T08:34:35.563660Z"
    }
   },
   "outputs": [],
   "source": [
    "period = (pd.to_datetime(f\"{pd.to_datetime('now').year}-01-01\"),\n",
    "          pd.to_datetime('now'))\n",
    "data = highlights[(pd.to_datetime(highlights.Day) >= period[0])\n",
    "                  & (pd.to_datetime(highlights.Day) <= period[1])]\n",
    "\n",
    "data = data.groupby(['Year', 'Month_Week']).mean().reset_index()\n",
    "data = data.rename(columns={'Month_Week': 'Month'})"
   ]
  },
  {
   "cell_type": "code",
   "execution_count": 18,
   "id": "1fefb976",
   "metadata": {
    "ExecuteTime": {
     "end_time": "2021-09-28T08:46:01.506878Z",
     "start_time": "2021-09-28T08:46:01.493397Z"
    }
   },
   "outputs": [],
   "source": [
    "res = round(rep2[['Month','Mobiledevice']].mean(),2) "
   ]
  },
  {
   "cell_type": "code",
   "execution_count": 113,
   "id": "41520062",
   "metadata": {
    "ExecuteTime": {
     "end_time": "2021-09-28T10:10:18.329236Z",
     "start_time": "2021-09-28T10:10:18.276106Z"
    }
   },
   "outputs": [
    {
     "data": {
      "text/html": [
       "<div>\n",
       "<style scoped>\n",
       "    .dataframe tbody tr th:only-of-type {\n",
       "        vertical-align: middle;\n",
       "    }\n",
       "\n",
       "    .dataframe tbody tr th {\n",
       "        vertical-align: top;\n",
       "    }\n",
       "\n",
       "    .dataframe thead th {\n",
       "        text-align: right;\n",
       "    }\n",
       "</style>\n",
       "<table border=\"1\" class=\"dataframe\">\n",
       "  <thead>\n",
       "    <tr style=\"text-align: right;\">\n",
       "      <th></th>\n",
       "      <th>KPI</th>\n",
       "      <th>Sum</th>\n",
       "      <th>Change</th>\n",
       "      <th>Prop</th>\n",
       "    </tr>\n",
       "  </thead>\n",
       "  <tbody>\n",
       "    <tr>\n",
       "      <th>3</th>\n",
       "      <td>Referraltraffic</td>\n",
       "      <td>10636.0</td>\n",
       "      <td>-11.0</td>\n",
       "      <td>53.69</td>\n",
       "    </tr>\n",
       "    <tr>\n",
       "      <th>1</th>\n",
       "      <td>Directtraffic</td>\n",
       "      <td>7882.0</td>\n",
       "      <td>-121.0</td>\n",
       "      <td>39.79</td>\n",
       "    </tr>\n",
       "    <tr>\n",
       "      <th>0</th>\n",
       "      <td>Socialtraffic</td>\n",
       "      <td>522.0</td>\n",
       "      <td>-43.0</td>\n",
       "      <td>2.63</td>\n",
       "    </tr>\n",
       "    <tr>\n",
       "      <th>2</th>\n",
       "      <td>Organicsearch</td>\n",
       "      <td>474.0</td>\n",
       "      <td>-50.0</td>\n",
       "      <td>2.39</td>\n",
       "    </tr>\n",
       "    <tr>\n",
       "      <th>6</th>\n",
       "      <td>Other</td>\n",
       "      <td>185.0</td>\n",
       "      <td>-4.0</td>\n",
       "      <td>0.93</td>\n",
       "    </tr>\n",
       "    <tr>\n",
       "      <th>5</th>\n",
       "      <td>Paidtraffic</td>\n",
       "      <td>105.0</td>\n",
       "      <td>0.0</td>\n",
       "      <td>0.53</td>\n",
       "    </tr>\n",
       "    <tr>\n",
       "      <th>4</th>\n",
       "      <td>Emailtraffic</td>\n",
       "      <td>7.0</td>\n",
       "      <td>-2.0</td>\n",
       "      <td>0.04</td>\n",
       "    </tr>\n",
       "  </tbody>\n",
       "</table>\n",
       "</div>"
      ],
      "text/plain": [
       "               KPI      Sum  Change   Prop\n",
       "3  Referraltraffic  10636.0   -11.0  53.69\n",
       "1    Directtraffic   7882.0  -121.0  39.79\n",
       "0    Socialtraffic    522.0   -43.0   2.63\n",
       "2    Organicsearch    474.0   -50.0   2.39\n",
       "6            Other    185.0    -4.0   0.93\n",
       "5      Paidtraffic    105.0     0.0   0.53\n",
       "4     Emailtraffic      7.0    -2.0   0.04"
      ]
     },
     "execution_count": 113,
     "metadata": {},
     "output_type": "execute_result"
    }
   ],
   "source": [
    "total = pd.DataFrame(rep[[\n",
    "    'Month', 'Socialtraffic', 'Directtraffic', 'Organicsearch',\n",
    "    'Referraltraffic', 'Emailtraffic', 'Paidtraffic', 'Other'\n",
    "]].sum(axis=0)).reset_index()\n",
    "total.columns = ['KPI', 'Sum']\n",
    "total = total[total.KPI != 'Month']\n",
    "total['Prop'] = total.Sum / sum(total.Sum) * 100\n",
    "total.Prop = total.Prop.apply(lambda x: round(x, 2))\n",
    "change = rep[[\n",
    "    'Socialtraffic', 'Directtraffic', 'Organicsearch', 'Referraltraffic',\n",
    "    'Emailtraffic', 'Paidtraffic', 'Other'\n",
    "]].diff().tail(1).T.reset_index()\n",
    "change.columns = ['KPI', 'Change']\n",
    "\n",
    "stats = total.merge(change).sort_values(\n",
    "    'Sum', ascending=False)[['KPI', 'Sum', 'Change', 'Prop']]"
   ]
  }
 ],
 "metadata": {
  "kernelspec": {
   "display_name": "Django Shell-Plus",
   "language": "python",
   "name": "django_extensions"
  },
  "language_info": {
   "codemirror_mode": {
    "name": "ipython",
    "version": 3
   },
   "file_extension": ".py",
   "mimetype": "text/x-python",
   "name": "python",
   "nbconvert_exporter": "python",
   "pygments_lexer": "ipython3",
   "version": "3.8.3"
  },
  "toc": {
   "base_numbering": 1,
   "nav_menu": {},
   "number_sections": true,
   "sideBar": true,
   "skip_h1_title": false,
   "title_cell": "Table of Contents",
   "title_sidebar": "Contents",
   "toc_cell": true,
   "toc_position": {},
   "toc_section_display": true,
   "toc_window_display": false
  },
  "varInspector": {
   "cols": {
    "lenName": 16,
    "lenType": 16,
    "lenVar": 40
   },
   "kernels_config": {
    "python": {
     "delete_cmd_postfix": "",
     "delete_cmd_prefix": "del ",
     "library": "var_list.py",
     "varRefreshCmd": "print(var_dic_list())"
    },
    "r": {
     "delete_cmd_postfix": ") ",
     "delete_cmd_prefix": "rm(",
     "library": "var_list.r",
     "varRefreshCmd": "cat(var_dic_list()) "
    }
   },
   "types_to_exclude": [
    "module",
    "function",
    "builtin_function_or_method",
    "instance",
    "_Feature"
   ],
   "window_display": false
  }
 },
 "nbformat": 4,
 "nbformat_minor": 5
}
